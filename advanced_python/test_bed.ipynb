{
 "cells": [
  {
   "cell_type": "code",
   "execution_count": 2,
   "metadata": {},
   "outputs": [
    {
     "name": "stdout",
     "output_type": "stream",
     "text": [
      "100\n",
      "25\n"
     ]
    }
   ],
   "source": [
    "# optional parameters\n",
    "def func(x=10):\n",
    "    return x **2\n",
    "\n",
    "call = func()\n",
    "print(call)\n",
    "\n",
    "call = func(5)\n",
    "print(call)"
   ]
  },
  {
   "cell_type": "code",
   "execution_count": 20,
   "metadata": {},
   "outputs": [],
   "source": [
    "# static and class methods\n",
    "class Person(object):\n",
    "    population = 50\n",
    "\n",
    "    def __init__(self, name, age):\n",
    "        self.name = name\n",
    "        self.age = age\n",
    "\n",
    "    @classmethod\n",
    "    def get_population(cls):\n",
    "        return cls.population\n",
    "\n",
    "    @staticmethod\n",
    "    def is_adult():\n",
    "        # return self >= 18\n",
    "        pass\n",
    "\n",
    "    def display(self):\n",
    "        print(self.name, 'is', self.age, 'years old.')\n"
   ]
  },
  {
   "cell_type": "code",
   "execution_count": 21,
   "metadata": {},
   "outputs": [
    {
     "name": "stdout",
     "output_type": "stream",
     "text": [
      "50\n",
      "Tim is 19 years old.\n",
      "None\n"
     ]
    }
   ],
   "source": [
    "print(Person.get_population())\n",
    "# print(Person.is_adult(21))\n",
    "# print(Person.is_adult(15))\n",
    "\n",
    "new_person = Person('Tim', 19)\n",
    "new_person.display()\n",
    "\n",
    "print(Person.is_adult())"
   ]
  },
  {
   "cell_type": "code",
   "execution_count": 23,
   "metadata": {},
   "outputs": [
    {
     "name": "stdout",
     "output_type": "stream",
     "text": [
      "[1, 4, 27, 256, 3125, 46656, 823543, 16777216, 387420489, 10000000000]\n"
     ]
    }
   ],
   "source": [
    "# map method\n",
    "\n",
    "lst = list(range(1,11))\n",
    "\n",
    "def func(x):\n",
    "    return x**x\n",
    "\n",
    "print(list(map(func, lst)))"
   ]
  },
  {
   "cell_type": "code",
   "execution_count": 24,
   "metadata": {},
   "outputs": [
    {
     "name": "stdout",
     "output_type": "stream",
     "text": [
      "[1, 2, 3, 4, 5, 6, 7, 8, 9, 10]\n",
      "[1, 3, 5, 7, 9]\n"
     ]
    }
   ],
   "source": [
    "# filter method\n",
    "\n",
    "def add_7(x):\n",
    "    return x+7\n",
    "\n",
    "def is_odd(x):\n",
    "    return x%2 != 0\n",
    "\n",
    "a = list(range(1,11))\n",
    "print(a)\n",
    "b = list(filter(is_odd, a))\n",
    "print(b)"
   ]
  },
  {
   "cell_type": "code",
   "execution_count": 28,
   "metadata": {},
   "outputs": [
    {
     "name": "stdout",
     "output_type": "stream",
     "text": [
      "[8, 10, 12, 14, 16]\n"
     ]
    }
   ],
   "source": [
    "# c = list(map(add_7, b))\n",
    "c = list(map(add_7, filter(is_odd, a)))\n",
    "print(c)"
   ]
  },
  {
   "cell_type": "code",
   "execution_count": 30,
   "metadata": {},
   "outputs": [
    {
     "name": "stdout",
     "output_type": "stream",
     "text": [
      "[1, 0, 1, 0, 1, 0, 1, 0, 1, 0]\n"
     ]
    }
   ],
   "source": [
    "# lambda\n",
    "\n",
    "lst = list(range(1,11))\n",
    "print(list(map(lambda x:x%2, lst)))"
   ]
  },
  {
   "cell_type": "code",
   "execution_count": 31,
   "metadata": {},
   "outputs": [
    {
     "name": "stdout",
     "output_type": "stream",
     "text": [
      "Counter({'a': 2, 'l': 2, 'g': 1, 'r': 1, 'd': 1})\n",
      "Counter({'a': 3, 'b': 2, 'c': 2, 'x': 1, 'd': 1})\n",
      "Counter({'d': 5, 'x': 4, 'c': 3, 'b': 2, 'a': 1})\n",
      "Counter({'dogs': 7, 'cats': 4})\n"
     ]
    }
   ],
   "source": [
    "# collections - counter\n",
    "from collections import Counter\n",
    "\n",
    "a = Counter('gallard')\n",
    "print(a)\n",
    "b = Counter(['a', 'b', 'c', 'a', 'x', 'c', 'a', 'd', 'b'])\n",
    "print(b)\n",
    "c = Counter({'a':1, 'b':2, 'c':3, 'x':4, 'd':5})\n",
    "print(c)\n",
    "d = Counter(cats=4, dogs=7)\n",
    "print(d)"
   ]
  },
  {
   "cell_type": "code",
   "execution_count": 34,
   "metadata": {},
   "outputs": [
    {
     "name": "stdout",
     "output_type": "stream",
     "text": [
      "['a', 'a', 'a', 'b', 'b', 'c', 'c', 'x', 'd']\n",
      "[('a', 3), ('b', 2), ('c', 2), ('x', 1), ('d', 1)]\n"
     ]
    }
   ],
   "source": [
    "print(list(b.elements()))\n",
    "print(b.most_common())"
   ]
  },
  {
   "cell_type": "code",
   "execution_count": 35,
   "metadata": {},
   "outputs": [
    {
     "name": "stdout",
     "output_type": "stream",
     "text": [
      "Counter({'a': 2, 'c': 2})\n",
      "Counter({'a': 6, 'b': 5})\n",
      "Counter({'a': 2, 'b': 2})\n",
      "Counter({'a': 4, 'b': 3, 'd': 2, 'c': 1})\n"
     ]
    }
   ],
   "source": [
    "a = Counter(a=4, b=2, c=1, d=-2)\n",
    "b = Counter(a=2, b=3, c=-1, d=2)\n",
    "\n",
    "print(a-b)\n",
    "print(a+b)\n",
    "print(a&b)\n",
    "print(a|b)"
   ]
  },
  {
   "cell_type": "code",
   "execution_count": 36,
   "metadata": {},
   "outputs": [
    {
     "name": "stdout",
     "output_type": "stream",
     "text": [
      "Point(x=3, y=4, z=5)\n"
     ]
    }
   ],
   "source": [
    "# named tuple\n",
    "from collections import namedtuple\n",
    "\n",
    "Point = namedtuple('Point', 'x y z')\n",
    "\n",
    "newP = Point(3, 4, 5)\n",
    "\n",
    "print(newP)"
   ]
  },
  {
   "cell_type": "code",
   "execution_count": 42,
   "metadata": {},
   "outputs": [
    {
     "name": "stdout",
     "output_type": "stream",
     "text": [
      "3 4 5\n",
      "{'x': 3, 'y': 4, 'z': 5}\n",
      "('x', 'y', 'z')\n",
      "Point(x=3, y=6, z=5)\n"
     ]
    }
   ],
   "source": [
    "print(newP.x, newP.y, newP.z)\n",
    "print(newP._asdict())\n",
    "print(newP._fields)\n",
    "print(newP._replace(y=6))"
   ]
  },
  {
   "cell_type": "code",
   "execution_count": 44,
   "metadata": {},
   "outputs": [
    {
     "name": "stdout",
     "output_type": "stream",
     "text": [
      "Point(x='a', y='b', z='c')\n"
     ]
    }
   ],
   "source": [
    "p2 = Point._make('abc')\n",
    "print(p2)"
   ]
  },
  {
   "cell_type": "code",
   "execution_count": 45,
   "metadata": {},
   "outputs": [],
   "source": [
    "#deque\n",
    "\n",
    "from collections import deque\n",
    "\n",
    "d = deque('hello')"
   ]
  },
  {
   "cell_type": "code",
   "execution_count": 46,
   "metadata": {},
   "outputs": [
    {
     "name": "stdout",
     "output_type": "stream",
     "text": [
      "deque(['h', 'e', 'l', 'l', 'o'])\n"
     ]
    }
   ],
   "source": [
    "print(d)"
   ]
  },
  {
   "cell_type": "code",
   "execution_count": 47,
   "metadata": {},
   "outputs": [
    {
     "name": "stdout",
     "output_type": "stream",
     "text": [
      "deque(['h', 'e', 'l', 'l', 'o', '4'])\n",
      "deque(['h', 'e', 'l', 'l', 'o', '4', 5])\n",
      "deque([4, 'h', 'e', 'l', 'l', 'o', '4', 5])\n",
      "deque([4, 'h', 'e', 'l', 'l', 'o', '4'])\n",
      "deque(['h', 'e', 'l', 'l', 'o', '4'])\n"
     ]
    }
   ],
   "source": [
    "d.append('4')\n",
    "print(d)\n",
    "d.append(5)\n",
    "print(d)\n",
    "d.appendleft(4)\n",
    "print(d)\n",
    "d.pop()\n",
    "print(d)\n",
    "d.popleft()\n",
    "print(d)\n"
   ]
  },
  {
   "cell_type": "code",
   "execution_count": 48,
   "metadata": {},
   "outputs": [
    {
     "name": "stdout",
     "output_type": "stream",
     "text": [
      "deque(['h', 'e', 'l', 'l', 'o', '4'])\n",
      "deque([])\n"
     ]
    }
   ],
   "source": [
    "print(d)\n",
    "d.clear()\n",
    "print(d)"
   ]
  },
  {
   "cell_type": "code",
   "execution_count": 53,
   "metadata": {},
   "outputs": [
    {
     "name": "stdout",
     "output_type": "stream",
     "text": [
      "deque([])\n",
      "deque(['y', 't', 'g', 'w', 'e', 'i', 'q', 'w', 'e', 'j', 'k', 'h'])\n",
      "deque(['a', 'd', 'j', 'a', 'l', 'd', 'j', 'l', 'a', 'j', 'y', 't', 'g', 'w', 'e', 'i', 'q', 'w', 'e', 'j', 'k', 'h'])\n"
     ]
    }
   ],
   "source": [
    "d.clear()\n",
    "print(d)\n",
    "d.extend('ytgweiqwejkh')\n",
    "print(d)\n",
    "d.extendleft('jaljdlajda')\n",
    "print(d)"
   ]
  },
  {
   "cell_type": "code",
   "execution_count": 55,
   "metadata": {},
   "outputs": [
    {
     "name": "stdout",
     "output_type": "stream",
     "text": [
      "deque(['e', 'j', 'k', 'h', 'a', 'd', 'j', 'a', 'l', 'd', 'j', 'l', 'a', 'j', 'y', 't', 'g', 'w', 'e', 'i', 'q', 'w'])\n",
      "deque(['e', 'i', 'q', 'w', 'e', 'j', 'k', 'h', 'a', 'd', 'j', 'a', 'l', 'd', 'j', 'l', 'a', 'j', 'y', 't', 'g', 'w'])\n",
      "deque(['k', 'h', 'a', 'd', 'j', 'a', 'l', 'd', 'j', 'l', 'a', 'j', 'y', 't', 'g', 'w', 'e', 'i', 'q', 'w', 'e', 'j'])\n"
     ]
    }
   ],
   "source": [
    "print(d)\n",
    "d.rotate(4)\n",
    "print(d)\n",
    "d.rotate(-6)\n",
    "print(d)"
   ]
  },
  {
   "cell_type": "code",
   "execution_count": 58,
   "metadata": {},
   "outputs": [
    {
     "name": "stdout",
     "output_type": "stream",
     "text": [
      "deque(['h', 'e', 'l', 'l', 'o'], maxlen=5)\n",
      "deque(['e', 'l', 'l', 'o', 'there'], maxlen=5)\n",
      "deque(['there', 'k', 'j', 'a', 'l'], maxlen=5)\n"
     ]
    }
   ],
   "source": [
    "d2 = deque(\"hello\", maxlen=len(\"hello\"))\n",
    "print(d2)\n",
    "d2.append(\"there\")\n",
    "print(d2)\n",
    "d2.extend(\"kjal\")\n",
    "print(d2)"
   ]
  },
  {
   "cell_type": "code",
   "execution_count": 65,
   "metadata": {},
   "outputs": [
    {
     "name": "stdout",
     "output_type": "stream",
     "text": [
      "defaultdict(<class 'list'>, {'a': [1]})\n"
     ]
    }
   ],
   "source": [
    "# defaultdict\n",
    "from collections import defaultdict\n",
    "\n",
    "# dct = {\"a\": 1, \"b\": 2, \"c\": 3}\n",
    "ddct = defaultdict(list)\n",
    "ddct[\"a\"].append(1)\n",
    "print(ddct)"
   ]
  },
  {
   "cell_type": "code",
   "execution_count": 67,
   "metadata": {},
   "outputs": [
    {
     "name": "stdout",
     "output_type": "stream",
     "text": [
      "defaultdict(<class 'int'>, {'a': 1})\n",
      "dict_items([('a', 1)])\n"
     ]
    }
   ],
   "source": [
    "ddct = defaultdict(int)\n",
    "ddct[\"a\"] = 1\n",
    "print(ddct)\n",
    "print(ddct.items())"
   ]
  },
  {
   "cell_type": "code",
   "execution_count": 70,
   "metadata": {},
   "outputs": [],
   "source": [
    "# ordered dictionary\n",
    "from collections import OrderedDict\n",
    "\n",
    "dct = {\"a\": 1, \"b\": 2, \"c\": 3, \"d\": 4, \"e\": 5, \"f\": 6}\n",
    "odct = OrderedDict(dct)"
   ]
  },
  {
   "cell_type": "code",
   "execution_count": 71,
   "metadata": {},
   "outputs": [
    {
     "name": "stdout",
     "output_type": "stream",
     "text": [
      "{'a': 1, 'b': 2, 'c': 3, 'd': 4, 'e': 5, 'f': 6}\n",
      "OrderedDict([('a', 1), ('b', 2), ('c', 3), ('d', 4), ('e', 5), ('f', 6)])\n"
     ]
    }
   ],
   "source": [
    "print(dct)\n",
    "print(odct)"
   ]
  },
  {
   "cell_type": "code",
   "execution_count": null,
   "metadata": {},
   "outputs": [],
   "source": []
  }
 ],
 "metadata": {
  "interpreter": {
   "hash": "fc384f7e1c802d762e8ae2d35493986cf4d8dfda21fbfcf3845d3480326ba56e"
  },
  "kernelspec": {
   "display_name": "Python 3.8.8 ('base')",
   "language": "python",
   "name": "python3"
  },
  "language_info": {
   "codemirror_mode": {
    "name": "ipython",
    "version": 3
   },
   "file_extension": ".py",
   "mimetype": "text/x-python",
   "name": "python",
   "nbconvert_exporter": "python",
   "pygments_lexer": "ipython3",
   "version": "3.8.8"
  },
  "orig_nbformat": 4
 },
 "nbformat": 4,
 "nbformat_minor": 2
}
